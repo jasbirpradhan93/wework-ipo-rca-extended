{
 "cells": [
  {
   "cell_type": "markdown",
   "id": "3fb10b8d",
   "metadata": {},
   "source": [
    "# WeWork IPO Collapse (2019): Root Cause Analysis — Data Notebook\n",
    "\n",
    "This notebook reconstructs selected figures and tables from an RCA of the WeWork IPO collapse. All numbers are entered as per the report's figures; no external data sources are fetched."
   ]
  },
  {
   "cell_type": "markdown",
   "id": "27e6b5fb",
   "metadata": {},
   "source": [
    "## Setup"
   ]
  },
  {
   "cell_type": "code",
   "execution_count": null,
   "id": "22007d9c",
   "metadata": {},
   "outputs": [],
   "source": [
    "import pandas as pd\n",
    "import numpy as np\n",
    "import matplotlib.pyplot as plt\n",
    "\n",
    "pd.set_option('display.float_format', lambda x: f'{x:,.2f}')"
   ]
  },
  {
   "cell_type": "markdown",
   "id": "e4176769",
   "metadata": {},
   "source": [
    "## Data: Revenue and Net Loss (2017–H1 2019)\n",
    "Values in USD millions."
   ]
  },
  {
   "cell_type": "code",
   "execution_count": null,
   "id": "8efe1229",
   "metadata": {},
   "outputs": [],
   "source": [
    "rev_loss = pd.DataFrame({\n",
    "    'Period': ['2017','2018','H1 2019'],\n",
    "    'Revenue_M': [886, 1820, 1540],\n",
    "    'Net_Loss_M': [933, 1930, 904]\n",
    "})\n",
    "rev_loss['Burn_Rate_%'] = (rev_loss['Net_Loss_M'] / rev_loss['Revenue_M']) * 100\n",
    "rev_loss"
   ]
  },
  {
   "cell_type": "markdown",
   "id": "40a3d55b",
   "metadata": {},
   "source": [
    "### Chart: Revenue vs Net Loss (2017–H1 2019)"
   ]
  },
  {
   "cell_type": "code",
   "execution_count": null,
   "id": "23a132d2",
   "metadata": {},
   "outputs": [],
   "source": [
    "plt.figure()\n",
    "x = np.arange(len(rev_loss))\n",
    "plt.plot(x, rev_loss['Revenue_M'], marker='o', label='Revenue ($M)')\n",
    "plt.plot(x, rev_loss['Net_Loss_M'], marker='o', label='Net Loss ($M)')\n",
    "plt.xticks(x, rev_loss['Period'])\n",
    "plt.title('WeWork Revenue vs Net Loss (2017–H1 2019)')\n",
    "plt.xlabel('Period')\n",
    "plt.ylabel('USD ($M)')\n",
    "plt.legend()\n",
    "plt.show()"
   ]
  },
  {
   "cell_type": "markdown",
   "id": "77443cb5",
   "metadata": {},
   "source": [
    "## Data: Valuation Trend (2017–2019)\n",
    "Values in USD millions. Points correspond to ~2017, Jan-2019 peak, and Oct-2019 post-rescue valuation."
   ]
  },
  {
   "cell_type": "code",
   "execution_count": null,
   "id": "ca027243",
   "metadata": {},
   "outputs": [],
   "source": [
    "valuation = pd.DataFrame({\n",
    "    'Point': ['2017','Jan-2019','Oct-2019'],\n",
    "    'Valuation_M': [20000, 47000, 8000]\n",
    "})\n",
    "valuation"
   ]
  },
  {
   "cell_type": "markdown",
   "id": "e7235415",
   "metadata": {},
   "source": [
    "### Chart: Valuation Trend (2017–2019)"
   ]
  },
  {
   "cell_type": "code",
   "execution_count": null,
   "id": "b9b4ee3a",
   "metadata": {},
   "outputs": [],
   "source": [
    "plt.figure()\n",
    "x = np.arange(len(valuation))\n",
    "plt.plot(x, valuation['Valuation_M'], marker='o', label='Valuation ($M)')\n",
    "plt.xticks(x, valuation['Point'])\n",
    "plt.title('WeWork Valuation Trend (2017–2019)')\n",
    "plt.xlabel('Point in Time')\n",
    "plt.ylabel('USD ($M)')\n",
    "plt.legend()\n",
    "plt.show()"
   ]
  },
  {
   "cell_type": "markdown",
   "id": "ca3768c9",
   "metadata": {},
   "source": [
    "## Data: Lease Obligations (Disclosure Points)\n",
    "Long-term lease obligations disclosed around 2018–2019."
   ]
  },
  {
   "cell_type": "code",
   "execution_count": null,
   "id": "b365d1e7",
   "metadata": {},
   "outputs": [],
   "source": [
    "lease_oblig = pd.DataFrame({\n",
    "    'Disclosure_Point': ['2018', 'H1 2019'],\n",
    "    'Lease_Obligations_B': [40, 47]\n",
    "})\n",
    "lease_oblig"
   ]
  },
  {
   "cell_type": "markdown",
   "id": "0eb67134",
   "metadata": {},
   "source": [
    "## Failure Mode & Effects Analysis (FMEA)\n",
    "We compute RPN = Severity × Occurrence × Detectability."
   ]
  },
  {
   "cell_type": "code",
   "execution_count": null,
   "id": "a33dc14b",
   "metadata": {},
   "outputs": [],
   "source": [
    "fmea = pd.DataFrame([\n",
    "    ['Founder Overreach & Governance Weakness', 9, 8, 7],\n",
    "    ['Unsustainable Lease Obligations', 10, 7, 6],\n",
    "    ['Misrepresentation of Business Model', 9, 7, 6],\n",
    "    ['Aggressive Global Expansion', 8, 8, 5],\n",
    "    ['Weak Risk Controls', 8, 6, 7],\n",
    "    ['Cultural & Communication Issues', 7, 6, 6],\n",
    "], columns=['Failure Mode','Severity','Occurrence','Detectability'])\n",
    "fmea['RPN'] = fmea['Severity'] * fmea['Occurrence'] * fmea['Detectability']\n",
    "fmea.sort_values('RPN', ascending=False).reset_index(drop=True)"
   ]
  },
  {
   "cell_type": "markdown",
   "id": "57d31643",
   "metadata": {},
   "source": [
    "## Timeline of Key Events"
   ]
  },
  {
   "cell_type": "code",
   "execution_count": null,
   "id": "9a1e041e",
   "metadata": {},
   "outputs": [],
   "source": [
    "timeline = pd.DataFrame([\n",
    "    ['2010', 'WeWork founded by Adam Neumann and Miguel McKelvey', 'financhill'],\n",
    "    ['2014', 'Valuation > $1.5B after Series C', 'tracxn'],\n",
    "    ['2017', 'SoftBank invests ~$8B; valuation hits ~$20B', 'bloomberg'],\n",
    "    ['Aug 2019', 'IPO filing: $1.9B loss, ~$40B lease obligations', 'reuters'],\n",
    "    ['Sep 2019', 'IPO withdrawn; Neumann resigns', 'bastionresearch'],\n",
    "    ['Oct 2019', 'SoftBank rescue; valuation ~$8–9B', 'bbc'],\n",
    "    ['Oct 2021', 'Goes public via SPAC', 'cnbc'],\n",
    "], columns=['Date','Milestone','Source'])\n",
    "timeline"
   ]
  },
  {
   "cell_type": "markdown",
   "id": "0729329e",
   "metadata": {},
   "source": [
    "## Quick KPIs & Sanity Checks"
   ]
  },
  {
   "cell_type": "code",
   "execution_count": null,
   "id": "61c06a55",
   "metadata": {},
   "outputs": [],
   "source": [
    "# Burn rate by period\n",
    "rev_loss[['Period','Burn_Rate_%']]"
   ]
  },
  {
   "cell_type": "code",
   "execution_count": null,
   "id": "17b32205",
   "metadata": {},
   "outputs": [],
   "source": [
    "# Simple valuation-to-revenue multiples using 2018 revenue as baseline\n",
    "baseline_rev = 1820  # $M\n",
    "valuation['Rev_Multiple_x'] = valuation['Valuation_M'] / baseline_rev\n",
    "valuation"
   ]
  },
  {
   "cell_type": "markdown",
   "id": "1cda7c52",
   "metadata": {},
   "source": [
    "## Caveats\n",
    "- Figures are copied from the source report and represent specific snapshots (e.g., H1 2019).\n",
    "- This notebook does not attempt to estimate missing periods or adjust for currency, accounting restatements, or subsequent events.\n",
    "- Charts are illustrative and intended for learning/analysis."
   ]
  }
 ],
 "metadata": {},
 "nbformat": 4,
 "nbformat_minor": 5
}
